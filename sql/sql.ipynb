{
 "metadata": {
  "name": "sql"
 },
 "nbformat": 3,
 "nbformat_minor": 0,
 "worksheets": [
  {
   "cells": [
    {
     "cell_type": "markdown",
     "metadata": {},
     "source": [
      "# Brief demonstration of SQLite Python API"
     ]
    },
    {
     "cell_type": "markdown",
     "metadata": {},
     "source": [
      "Import the package"
     ]
    },
    {
     "cell_type": "code",
     "collapsed": false,
     "input": [
      "import sqlite3"
     ],
     "language": "python",
     "metadata": {},
     "outputs": [],
     "prompt_number": 1
    },
    {
     "cell_type": "markdown",
     "metadata": {},
     "source": [
      "Then create a connection, giving it the name of the database file to create, and obtain a *cursor* object."
     ]
    },
    {
     "cell_type": "code",
     "collapsed": false,
     "input": [
      "conn = sqlite3.connect('example3.db')\n",
      "curs = conn.cursor()"
     ],
     "language": "python",
     "metadata": {},
     "outputs": [],
     "prompt_number": 2
    },
    {
     "cell_type": "markdown",
     "metadata": {},
     "source": [
      "Now we can execute an SQL statement (without the semicolon) to create a table."
     ]
    },
    {
     "cell_type": "code",
     "collapsed": false,
     "input": [
      "curs.execute('DROP TABLE IF EXISTS species')  # in case we have already been using this DB file\n",
      "curs.execute('''\n",
      "CREATE TABLE species\n",
      "  (species_id VARCHAR, genus VARCHAR, species VARCHAR, taxa VARCHAR)\n",
      "''')"
     ],
     "language": "python",
     "metadata": {},
     "outputs": [
      {
       "output_type": "pyout",
       "prompt_number": 3,
       "text": [
        "<sqlite3.Cursor at 0x2d73730>"
       ]
      }
     ],
     "prompt_number": 3
    },
    {
     "cell_type": "markdown",
     "metadata": {},
     "source": [
      "Read some data from a URL and insert it into the table."
     ]
    },
    {
     "cell_type": "code",
     "collapsed": false,
     "input": [
      "import urllib\n",
      "import csv\n",
      "in_csv = urllib.urlopen(\n",
      "'https://github.com/UCL/ucl_software_carpentry/raw/master/sql/data/mammal_species_table.csv')\n",
      "csv_reader = csv.reader(in_csv)\n",
      "csv_reader.next()  # skip header line\n",
      "for entry in csv_reader:\n",
      "    curs.execute('INSERT INTO species VALUES (?,?,?,?)', entry)"
     ],
     "language": "python",
     "metadata": {},
     "outputs": [],
     "prompt_number": 4
    },
    {
     "cell_type": "markdown",
     "metadata": {},
     "source": [
      "Try a `SELECT` statement and print the results."
     ]
    },
    {
     "cell_type": "code",
     "collapsed": true,
     "input": [
      "genera = curs.execute('''\n",
      "SELECT DISTINCT genus, species FROM species\n",
      "''')\n",
      "for genus in genera:\n",
      "    entry = genera.fetchone()\n",
      "    if entry == None:\n",
      "        break\n",
      "    print entry[0] + \" \" + entry[1]\n"
     ],
     "language": "python",
     "metadata": {},
     "outputs": [
      {
       "output_type": "stream",
       "stream": "stdout",
       "text": [
        "Ammospermophilus harrisi\n",
        "Baiomys taylori\n",
        "Calamospiza melanocorys\n",
        "Crotalus scutalatus\n",
        "Cnemidophorus uniparens\n",
        "Dipodomys merriami\n",
        "Dipodomys spectabilis\n",
        "Eumeces obsoletus\n",
        "Neotoma albigula\n",
        "Onychomys leucogaster\n",
        "Onychomys sp.\n",
        "Pipilo chlorurus\n",
        "Perognathus flavus\n",
        "Perognathus hispidus\n",
        "Peromyscus leucopus\n",
        "Chaetodipus penicillatus\n",
        "Chaetodipus sp.\n",
        "Reithrodontomys megalotis\n",
        "Reithrodontomys sp.\n",
        "Spizella breweri\n",
        "Sigmodon fulviventer\n",
        "Sigmodon ochrognathus\n",
        "Spermophilus tereticaudus\n",
        "Sigmodon sp.\n",
        "Pipilo sp.\n",
        "Sparrow sp.\n",
        "Zonotrichia leucophrys\n"
       ]
      }
     ],
     "prompt_number": 5
    }
   ],
   "metadata": {}
  }
 ]
}